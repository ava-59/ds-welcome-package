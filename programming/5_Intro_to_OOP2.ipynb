{
  "cells": [
    {
      "cell_type": "markdown",
      "metadata": {
        "id": "view-in-github",
        "colab_type": "text"
      },
      "source": [
        "<a href=\"https://colab.research.google.com/github/ava-59/ds-welcome-package/blob/main/programming/5_Intro_to_OOP2.ipynb\" target=\"_parent\"><img src=\"https://colab.research.google.com/assets/colab-badge.svg\" alt=\"Open In Colab\"/></a>"
      ]
    },
    {
      "cell_type": "markdown",
      "metadata": {
        "id": "5jU9RfJrmkSr"
      },
      "source": [
        "To open this notebook in Google Colab and start coding, click on the Colab icon below.\n",
        "<table style=\"border:2px solid orange\" align=\"left\">\n",
        "  <td style=\"border:2px solid orange \">\n",
        "    <a target=\"_blank\" href=\"https://colab.research.google.com/github/neuefische/ds-welcome-package/blob/main/programming/5_Intro_to_OOP.ipynb\"><img src=\"https://www.tensorflow.org/images/colab_logo_32px.png\" />Run in Google Colab</a>\n",
        "  </td>\n",
        "</table>"
      ]
    },
    {
      "cell_type": "markdown",
      "metadata": {
        "id": "8MSHNod3mkSs"
      },
      "source": [
        "---\n",
        "# Introduction to Object-oriented programming\n",
        "\n",
        "In this notebook we will only cover a very superficial introduction, when you start to really program seriously do go beyond this lesson.\n",
        "\n",
        "<img src=\"https://upload.wikimedia.org/wikipedia/commons/1/1c/Alice_through_the_looking_glass.jpg\"\n",
        "     alt=\"Alice through the looking glass\"\n",
        "     style=\"float: left; margin-right: 10px; height: 300px\" />"
      ]
    },
    {
      "cell_type": "markdown",
      "metadata": {
        "id": "lieIMNz4mkSs"
      },
      "source": [
        "**Object-oriented programming (OOP)** is a way of writing code using \"objects\". Computer programs that are not object-oriented are a list of instructions for the computer, which is called procedural programming. In OOP computer programs use objects that talk to one another to change the data in those objects and to work the way the user wants. OOP allows code reusability, in different parts of the program or by different developers.\n",
        "\n",
        "Pyhton, like most programming languages, is a mix of different ways of writing computer programs. For example, Python allows both object-oriented programming and procedural programming."
      ]
    },
    {
      "cell_type": "markdown",
      "metadata": {
        "id": "Pyc551zOmkSt"
      },
      "source": [
        "## Features\n",
        "\n",
        "In object-oriented programming everything is an object. And there are different types of objects:\n",
        " - Variables, known as **attributes** in OOP, can hold different types of information. For example, an attrubute like *age* for a person could be of integer data type and *names* could be a list of strings.\n",
        " - Procedures, known as **methods** in OOP, are lists of instructions telling the computer to take input, do some calculations or chage data and return an output. For example a person can say their name. In procedural programming they are called functions.\n",
        " - **Classes** are collections of different attributes and methods.\n",
        "\n",
        " **Objects** is a term used to refer to instances of classes."
      ]
    },
    {
      "cell_type": "markdown",
      "metadata": {
        "id": "dwOk4reBmkSt"
      },
      "source": [
        "## Example\n",
        "\n",
        "Let's take the example with person. We can create a **Human** class with three attributes: *age*, *names*, and *friend*. And two methods, to *tell the age* and *say the names*. The \\_\\_init\\_\\_ method is special method classes have called Constructor."
      ]
    },
    {
      "cell_type": "code",
      "execution_count": 1,
      "metadata": {
        "id": "BckyLUZemkSt"
      },
      "outputs": [],
      "source": [
        "class Human(object):\n",
        "    def __init__(self, names, age, friend = None):\n",
        "        self.names = names\n",
        "        self.age = age\n",
        "        self.friend = friend\n",
        "    def say_name(self):\n",
        "        print(\"My name is \"+' '.join(self.names)) #concatenate names\n",
        "    def how_old_am_i(self):\n",
        "        print(f\"I am {self.age} years old\")"
      ]
    },
    {
      "cell_type": "code",
      "execution_count": 2,
      "metadata": {
        "id": "sT6869WumkSu"
      },
      "outputs": [],
      "source": [
        "#create a new Human object with 2 names and age 10\n",
        "tarrant = Human(['Tarrant', 'Hightopp'], 20)\n",
        "#create a new Human who is 10 has three names and is friends whith tarrant\n",
        "alice = Human(['Alice', 'Pleasance', 'Liddell'], 10, friend=tarrant)"
      ]
    },
    {
      "cell_type": "code",
      "execution_count": 3,
      "metadata": {
        "id": "bw8fh6XVmkSu",
        "outputId": "9561a73a-8d4e-448f-892f-35fc8400365d",
        "colab": {
          "base_uri": "https://localhost:8080/"
        }
      },
      "outputs": [
        {
          "output_type": "stream",
          "name": "stdout",
          "text": [
            "My name is Tarrant Hightopp\n",
            "I am 20 years old\n",
            "My name is Alice Pleasance Liddell\n",
            "I am 10 years old\n"
          ]
        }
      ],
      "source": [
        "#Let's try the methods\n",
        "tarrant.say_name()\n",
        "tarrant.how_old_am_i()\n",
        "alice.say_name()\n",
        "alice.how_old_am_i()"
      ]
    },
    {
      "cell_type": "code",
      "execution_count": 4,
      "metadata": {
        "id": "H587ivl8mkSu",
        "outputId": "370e21f1-d904-455e-c806-23d7e84ca030",
        "colab": {
          "base_uri": "https://localhost:8080/"
        }
      },
      "outputs": [
        {
          "output_type": "stream",
          "name": "stdout",
          "text": [
            "My name is Tarrant Hightopp\n"
          ]
        }
      ],
      "source": [
        "#let's find out the name of Alice's friend\n",
        "#the friend is in this case an object instance of class Human\n",
        "alice.friend.say_name()"
      ]
    },
    {
      "cell_type": "code",
      "execution_count": 5,
      "metadata": {
        "id": "jU0jdMLImkSv",
        "outputId": "83bf9ef8-6ae6-4bfa-f7f5-1169fbdce2cb",
        "colab": {
          "base_uri": "https://localhost:8080/",
          "height": 104
        }
      },
      "outputs": [
        {
          "output_type": "execute_result",
          "data": {
            "text/plain": [
              "__main__.Human"
            ],
            "text/html": [
              "<div style=\"max-width:800px; border: 1px solid var(--colab-border-color);\"><style>\n",
              "      pre.function-repr-contents {\n",
              "        overflow-x: auto;\n",
              "        padding: 8px 12px;\n",
              "        max-height: 500px;\n",
              "      }\n",
              "\n",
              "      pre.function-repr-contents.function-repr-contents-collapsed {\n",
              "        cursor: pointer;\n",
              "        max-height: 100px;\n",
              "      }\n",
              "    </style>\n",
              "    <pre style=\"white-space: initial; background:\n",
              "         var(--colab-secondary-surface-color); padding: 8px 12px;\n",
              "         border-bottom: 1px solid var(--colab-border-color);\"><b>Human</b><br/>def __init__(names, age, friend=None)</pre><pre class=\"function-repr-contents function-repr-contents-collapsed\" style=\"\"><a class=\"filepath\" style=\"display:none\" href=\"#\"></a>&lt;no docstring&gt;</pre></div>"
            ]
          },
          "metadata": {},
          "execution_count": 5
        }
      ],
      "source": [
        "type(alice.friend)"
      ]
    },
    {
      "cell_type": "markdown",
      "metadata": {
        "id": "RUT_QXOZmkSv"
      },
      "source": [
        "## Check your understanding\n",
        "\n",
        "Create a *Animal* class with the following attributes: color, name, type, favourite snack and owner.\n",
        "Add the attributes to call the cat and find out the favourite snack.\n",
        "\n",
        "Create a new **Animal** object called *Chessur*, of color grey, who loves salmon and is owned by alice. Can you guess what type of animal Chessur is?\n",
        "How old is alice?"
      ]
    },
    {
      "cell_type": "code",
      "execution_count": 32,
      "metadata": {
        "id": "4cVu9JvNmkSw",
        "outputId": "a85f7758-26f7-4dc2-a689-8cb924bd854a",
        "colab": {
          "base_uri": "https://localhost:8080/"
        }
      },
      "outputs": [
        {
          "output_type": "stream",
          "name": "stdout",
          "text": [
            "My name is  Chessur\n",
            "my favourite snack is salmon\n",
            "cat\n",
            "i am a cat\n",
            "My name is Alice Pleasance Liddell\n",
            "I am 10 years old\n",
            "My name is Tarrant Hightopp\n"
          ]
        },
        {
          "output_type": "execute_result",
          "data": {
            "text/plain": [
              "7"
            ]
          },
          "metadata": {},
          "execution_count": 32
        }
      ],
      "source": [
        "# Code here\n",
        "#class ..\n",
        "\n",
        "class Animal(object):\n",
        "  def __init__(self, color, name, typ, snack, owner=None):\n",
        "    self.color = color\n",
        "    self.name = name\n",
        "    self.typ = typ\n",
        "    self.snack = snack\n",
        "    self.owner = owner\n",
        "  def say_name(self):\n",
        "        print(\"My name is \", self.name)\n",
        "  def say_snack(self):\n",
        "    print(\"my favourite snack is\", self.snack)\n",
        "  def what_are_you(self):\n",
        "    print(\"i am a\", self.typ)\n",
        "\n",
        "\n",
        "chessur = Animal(\"grey\", \"Chessur\", \"cat\", \"salmon\", owner=alice)\n",
        "\n",
        "chessur.say_name()\n",
        "chessur.say_snack()\n",
        "\n",
        "print(chessur.typ)\n",
        "\n",
        "chessur.what_are_you()\n",
        "\n",
        "chessur.owner.say_name()\n",
        "chessur.owner.how_old_am_i()\n",
        "\n",
        "chessur.owner.friend.say_name()\n",
        "\n",
        "len(chessur.name)"
      ]
    },
    {
      "cell_type": "markdown",
      "metadata": {
        "id": "t_xmbOGrmkSw"
      },
      "source": [
        "## Classes we use every day\n",
        "\n",
        "Did you know that **integers** and **strings** are classes too? They have then a bunch of attributes and methods associated with them. You can access the attributes and methods using the *dir* function in Python."
      ]
    },
    {
      "cell_type": "code",
      "execution_count": 47,
      "metadata": {
        "id": "C_BnviFOmkSw",
        "outputId": "9b0f57e8-155f-4a43-f13e-d6d2105ace97",
        "colab": {
          "base_uri": "https://localhost:8080/"
        }
      },
      "outputs": [
        {
          "output_type": "stream",
          "name": "stdout",
          "text": [
            "<class 'str'>\n"
          ]
        },
        {
          "output_type": "execute_result",
          "data": {
            "text/plain": [
              "['__add__',\n",
              " '__class__',\n",
              " '__contains__',\n",
              " '__delattr__',\n",
              " '__dir__',\n",
              " '__doc__',\n",
              " '__eq__',\n",
              " '__format__',\n",
              " '__ge__',\n",
              " '__getattribute__',\n",
              " '__getitem__',\n",
              " '__getnewargs__',\n",
              " '__getstate__',\n",
              " '__gt__',\n",
              " '__hash__',\n",
              " '__init__',\n",
              " '__init_subclass__',\n",
              " '__iter__',\n",
              " '__le__',\n",
              " '__len__',\n",
              " '__lt__',\n",
              " '__mod__',\n",
              " '__mul__',\n",
              " '__ne__',\n",
              " '__new__',\n",
              " '__reduce__',\n",
              " '__reduce_ex__',\n",
              " '__repr__',\n",
              " '__rmod__',\n",
              " '__rmul__',\n",
              " '__setattr__',\n",
              " '__sizeof__',\n",
              " '__str__',\n",
              " '__subclasshook__',\n",
              " 'capitalize',\n",
              " 'casefold',\n",
              " 'center',\n",
              " 'count',\n",
              " 'encode',\n",
              " 'endswith',\n",
              " 'expandtabs',\n",
              " 'find',\n",
              " 'format',\n",
              " 'format_map',\n",
              " 'index',\n",
              " 'isalnum',\n",
              " 'isalpha',\n",
              " 'isascii',\n",
              " 'isdecimal',\n",
              " 'isdigit',\n",
              " 'isidentifier',\n",
              " 'islower',\n",
              " 'isnumeric',\n",
              " 'isprintable',\n",
              " 'isspace',\n",
              " 'istitle',\n",
              " 'isupper',\n",
              " 'join',\n",
              " 'ljust',\n",
              " 'lower',\n",
              " 'lstrip',\n",
              " 'maketrans',\n",
              " 'partition',\n",
              " 'removeprefix',\n",
              " 'removesuffix',\n",
              " 'replace',\n",
              " 'rfind',\n",
              " 'rindex',\n",
              " 'rjust',\n",
              " 'rpartition',\n",
              " 'rsplit',\n",
              " 'rstrip',\n",
              " 'split',\n",
              " 'splitlines',\n",
              " 'startswith',\n",
              " 'strip',\n",
              " 'swapcase',\n",
              " 'title',\n",
              " 'translate',\n",
              " 'upper',\n",
              " 'zfill']"
            ]
          },
          "metadata": {},
          "execution_count": 47
        }
      ],
      "source": [
        "name = 'alice in wonderland'\n",
        "print(type(name))\n",
        "dir(name)"
      ]
    },
    {
      "cell_type": "markdown",
      "metadata": {
        "id": "jU3DoHermkSw"
      },
      "source": [
        "As you can see there are some method that begin and end with double underscores. These are called **special methods** and they aren't usually called by those names. Instead, they're called by some internal Pyuthon functions, for example **\\_\\_len\\_\\_** method is called by the **len** function.\n",
        "\n",
        "To see what a specific method does you can use teh **help** function."
      ]
    },
    {
      "cell_type": "code",
      "execution_count": 49,
      "metadata": {
        "id": "aZWW_IgemkSw",
        "outputId": "7d7f381e-dbe6-47c9-fb45-34f971103a8e",
        "colab": {
          "base_uri": "https://localhost:8080/"
        }
      },
      "outputs": [
        {
          "output_type": "stream",
          "name": "stdout",
          "text": [
            "Help on built-in function upper:\n",
            "\n",
            "upper() method of builtins.str instance\n",
            "    Return a copy of the string converted to uppercase.\n",
            "\n",
            "ALICE IN WONDERLAND\n",
            "ALICE IN WONDERLAND\n",
            "Help on method-wrapper:\n",
            "\n",
            "__len__() unbound builtins.str method\n",
            "    Return len(self).\n",
            "\n",
            "Help on built-in function zfill:\n",
            "\n",
            "zfill(width, /) method of builtins.str instance\n",
            "    Pad a numeric string with zeros on the left, to fill a field of the given width.\n",
            "    \n",
            "    The string is never truncated.\n",
            "\n"
          ]
        }
      ],
      "source": [
        "help(name.upper)\n",
        "up= name.upper()\n",
        "print(up)\n",
        "print(name.upper())\n",
        "help(name.__len__)\n",
        "\n",
        "len(name)\n",
        "\n",
        "help(name.zfill)"
      ]
    },
    {
      "cell_type": "markdown",
      "metadata": {
        "id": "pliFtkv-mkSw"
      },
      "source": [
        "### Exercise\n",
        "\n",
        "What does the **title** method do?\n",
        "\n",
        "Call it on the name object."
      ]
    },
    {
      "cell_type": "code",
      "execution_count": 50,
      "metadata": {
        "id": "TsdOkYtrmkSw",
        "outputId": "0ab9b654-0719-421a-91d4-0148dd8d372a",
        "colab": {
          "base_uri": "https://localhost:8080/",
          "height": 174
        }
      },
      "outputs": [
        {
          "output_type": "stream",
          "name": "stdout",
          "text": [
            "Help on built-in function title:\n",
            "\n",
            "title() method of builtins.str instance\n",
            "    Return a version of the string where each word is titlecased.\n",
            "    \n",
            "    More specifically, words start with uppercased characters and all remaining\n",
            "    cased characters have lower case.\n",
            "\n"
          ]
        },
        {
          "output_type": "execute_result",
          "data": {
            "text/plain": [
              "'Alice In Wonderland'"
            ],
            "application/vnd.google.colaboratory.intrinsic+json": {
              "type": "string"
            }
          },
          "metadata": {},
          "execution_count": 50
        }
      ],
      "source": [
        "# Code here\n",
        "\n",
        "help(name.title)\n",
        "\n",
        "name.title()"
      ]
    },
    {
      "cell_type": "markdown",
      "metadata": {
        "id": "mFuV3IEdmkSx"
      },
      "source": [
        "## Object comparison\n",
        "\n",
        "When comparing objects there are two operators: **==** and **is**\n",
        "\n",
        "The **==** operator compares the values of objects (the data they hold), while **is** compares their identites. We often care about values and not identities, so **==** appears more often. However, if you are comparing a viriable to a singleton, then using *is* makes sense. The most often case is checking if a variable is bound to *None*.\n",
        "\n",
        "```\n",
        "tarrant.friend is None # this will return True\n",
        "alice.friend is not None # this will return True\n",
        "```\n",
        "\n",
        "**==** is the syntactic sugar to **\\_\\_eq\\_\\_**\n",
        "\n",
        "When to use **is** and why: if you want to check if something exists, if you want to check that you have indeed distinct objects, so that you do not accidently edit the wrong object. The is operator is faster than ==, so use it when applcable.\n",
        "\n",
        "\n",
        "Fun fact: for Germans this might comparison is supported by the language itself, where you have **gleich** and **dasselbe**"
      ]
    },
    {
      "cell_type": "code",
      "execution_count": 51,
      "metadata": {
        "id": "Rt9o9DZzmkSx",
        "outputId": "0cb9c45b-0c95-46d3-9e87-997d979f6958",
        "colab": {
          "base_uri": "https://localhost:8080/"
        }
      },
      "outputs": [
        {
          "output_type": "stream",
          "name": "stdout",
          "text": [
            "[3, [55, 44], (7, 8, 9)]\n",
            "True\n",
            "False\n"
          ]
        }
      ],
      "source": [
        "# looking at lists, where copies are shallow by default\n",
        "l1 = [3, [55,44], (7,8,9)]\n",
        "l2 = list(l1) # this creates a copy of list l1\n",
        "print(l2)\n",
        "print(l1 == l2)\n",
        "print(l1 is l2)"
      ]
    },
    {
      "cell_type": "markdown",
      "metadata": {
        "id": "1oWvv-fFmkSx"
      },
      "source": [
        "## Check your understanding"
      ]
    },
    {
      "cell_type": "code",
      "execution_count": 53,
      "metadata": {
        "id": "5bjh8A0nmkSx",
        "outputId": "8593f348-c553-466d-84cf-07ffaca41344",
        "colab": {
          "base_uri": "https://localhost:8080/"
        }
      },
      "outputs": [
        {
          "output_type": "stream",
          "name": "stdout",
          "text": [
            "True\n",
            "False\n",
            "True\n",
            "True\n",
            "False\n"
          ]
        }
      ],
      "source": [
        "# looking at integers creating some new integers\n",
        "a = 5\n",
        "b = 5\n",
        "c = 10\n",
        "\n",
        "print(a == b)\n",
        "print(a == c)\n",
        "print(a is b)\n",
        "\n",
        "x = 1000\n",
        "y = 10**3\n",
        "\n",
        "print(x == y)\n",
        "print(x is y)"
      ]
    },
    {
      "cell_type": "markdown",
      "metadata": {
        "id": "4VLRs9j9mkSx"
      },
      "source": [
        "This only happens because.. Python caches small integers.. try it out with 1000 .. is 1000 the same as 10**3 ?\n",
        "\n",
        "What about strings? If you have a variable `x = 'a'` is 'aa' equal or the same as x*2 ?\n",
        "\n",
        "What happens if you assign l1 to l3 with `l3 = l1`, are they distinct lists or the same? How would you check that? What is the value of l1 if you .. run `l3.append('a')`"
      ]
    },
    {
      "cell_type": "code",
      "execution_count": 86,
      "metadata": {
        "id": "o_TOQI-zmkSx",
        "outputId": "d037d3f0-0ae6-4198-aca7-9bbb341368d2",
        "colab": {
          "base_uri": "https://localhost:8080/"
        }
      },
      "outputs": [
        {
          "output_type": "stream",
          "name": "stdout",
          "text": [
            "aa\n",
            "True\n",
            "True\n",
            "True\n",
            "[3, [55, 44], (7, 8, 9), 'a']\n",
            "[3, [55, 44], (7, 8, 9), 'a']\n",
            "True\n",
            "True\n"
          ]
        }
      ],
      "source": [
        "# code\n",
        "x = 'a'\n",
        "neu = x*2\n",
        "print(neu)\n",
        "print(neu == 'aa')\n",
        "##print(neu is 'aa')\n",
        "\n",
        "l1 = [3, [55,44], (7,8,9)]\n",
        "l3 = []\n",
        "l3 = l1\n",
        "print(l1 == l3)\n",
        "print(l1 is l3)\n",
        "\n",
        "\n",
        "l3.append('a')\n",
        "print(l1)\n",
        "print(l3)\n",
        "print(l1 == l3)\n",
        "print(l1 is l3)"
      ]
    },
    {
      "cell_type": "markdown",
      "metadata": {
        "id": "2i8afRzMmkSx"
      },
      "source": [
        "## Inheritance and Code Reuse\n",
        "\n",
        "Just like people have parents, grandparents and so on.. objects have an ancestry. The principle of inheritance lets programmers build relationships between concepts and group them together. It allows us to reduce code duplication by generalizing our code.\n",
        "\n",
        "For our *Human* example we could have the *ImaginaryHuman* class.. as we can all agree that some of the poeple in Alice in Wonderland were imaginary.. One can add more properties and new methods or just use **pass** if no changes are needed."
      ]
    },
    {
      "cell_type": "code",
      "execution_count": 66,
      "metadata": {
        "id": "IT6ihtuymkSx"
      },
      "outputs": [],
      "source": [
        "class ImaginaryHuman(Human):\n",
        "    pass"
      ]
    },
    {
      "cell_type": "code",
      "execution_count": 67,
      "metadata": {
        "id": "I9dqS96JmkSy"
      },
      "outputs": [],
      "source": [
        "red = ImaginaryHuman([\"The Red Queen\"], 100)"
      ]
    },
    {
      "cell_type": "code",
      "execution_count": 68,
      "metadata": {
        "id": "bvXuVQPCmkSy",
        "outputId": "c84a7969-a81a-4f54-e792-80c790ba3dee",
        "colab": {
          "base_uri": "https://localhost:8080/"
        }
      },
      "outputs": [
        {
          "output_type": "stream",
          "name": "stdout",
          "text": [
            "My name is The Red Queen\n"
          ]
        }
      ],
      "source": [
        "red.say_name()"
      ]
    },
    {
      "cell_type": "markdown",
      "metadata": {
        "id": "cjiaJL5hmkSy"
      },
      "source": [
        "### Check your understanding\n",
        "\n",
        "Create an imaginary pet class and make a new object.. you can use as inspiration [Alice in wonderland fandom](https://aliceinwonderland.fandom.com/wiki/Alice)\n",
        "\n",
        "Is the new object of the same type as object you made for Chessur? How can you check that?"
      ]
    },
    {
      "cell_type": "code",
      "execution_count": 90,
      "metadata": {
        "id": "tgo6ryH1mkSy",
        "outputId": "0f49e4b7-216d-4c57-8c02-728c25966bc6",
        "colab": {
          "base_uri": "https://localhost:8080/"
        }
      },
      "outputs": [
        {
          "output_type": "stream",
          "name": "stdout",
          "text": [
            "<class '__main__.Animal'>\n",
            "<class '__main__.ImaginaryPet'>\n",
            "False\n",
            "False\n",
            "--------\n",
            "cat\n",
            "i am a cat\n",
            "cat\n",
            "i am a cat\n",
            "True\n",
            "True\n"
          ]
        }
      ],
      "source": [
        "#code\n",
        "\n",
        "class ImaginaryPet(Animal):\n",
        " ##    def __init__(self, realness = \"not real\"):\n",
        "  ##      self.realness = realness\n",
        "  pass\n",
        "\n",
        "\n",
        "cheshire_cat = ImaginaryPet('purple', 'Cheshire Cat', 'cat', 'magic mushrooms')\n",
        "\n",
        "print(type(chessur))\n",
        "print(type(cheshire_cat))\n",
        "print(cheshire_cat == chessur)\n",
        "print(cheshire_cat is chessur)\n",
        "print('--------')\n",
        "\n",
        "print(chessur.typ)\n",
        "chessur.what_are_you()\n",
        "print(cheshire_cat.typ)\n",
        "cheshire_cat.what_are_you()\n",
        "\n",
        "print(cheshire_cat.typ == chessur.typ)\n",
        "print(cheshire_cat.typ is chessur.typ)"
      ]
    },
    {
      "cell_type": "markdown",
      "metadata": {
        "id": "ED_aWd1mmkSy"
      },
      "source": [
        "# Summary\n",
        "\n",
        "Congratulations! Hope you had fun with Alice and classes and OOP.\n",
        "\n",
        "Here is what you should be familiar by now with:\n",
        "* how to create a class, with attributes and methods\n",
        "* how to create an instance of a class\n",
        "* how to inherit from a class\n",
        "* when to use is vs =="
      ]
    },
    {
      "cell_type": "code",
      "execution_count": null,
      "metadata": {
        "id": "ryARs_kQmkSy"
      },
      "outputs": [],
      "source": []
    }
  ],
  "metadata": {
    "kernelspec": {
      "display_name": "Python 3",
      "language": "python",
      "name": "python3"
    },
    "language_info": {
      "codemirror_mode": {
        "name": "ipython",
        "version": 3
      },
      "file_extension": ".py",
      "mimetype": "text/x-python",
      "name": "python",
      "nbconvert_exporter": "python",
      "pygments_lexer": "ipython3",
      "version": "3.8.5"
    },
    "colab": {
      "provenance": [],
      "include_colab_link": true
    }
  },
  "nbformat": 4,
  "nbformat_minor": 0
}