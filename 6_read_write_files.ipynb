{
  "cells": [
    {
      "cell_type": "markdown",
      "metadata": {
        "id": "view-in-github",
        "colab_type": "text"
      },
      "source": [
        "<a href=\"https://colab.research.google.com/github/ava-59/ds-welcome-package/blob/main/6_read_write_files.ipynb\" target=\"_parent\"><img src=\"https://colab.research.google.com/assets/colab-badge.svg\" alt=\"Open In Colab\"/></a>"
      ]
    },
    {
      "cell_type": "markdown",
      "metadata": {
        "id": "cPsUzOJW8Zt3"
      },
      "source": [
        "To open this notebook in Google Colab and start coding, click on the Colab icon below.\n",
        "<table style=\"border:2px solid orange\" align=\"left\">\n",
        "  <td style=\"border:2px solid orange \">\n",
        "    <a target=\"_blank\" href=\"https://colab.research.google.com/github/neuefische/ds-welcome-package/blob/main/programming/6_Read_Write_Files.ipynb\"><img src=\"https://www.tensorflow.org/images/colab_logo_32px.png\" />Run in Google Colab</a>\n",
        "  </td>\n",
        "</table>"
      ]
    },
    {
      "cell_type": "markdown",
      "metadata": {
        "id": "C4BIktuv8Zt6"
      },
      "source": [
        "---\n",
        "# Reading and writing from files\n",
        "\n",
        "In this lesson we will learn how to read from webpages and regular files.\n",
        "Oftentimes we need to process information that is stored in documents. How can we have access to that?"
      ]
    },
    {
      "cell_type": "markdown",
      "metadata": {
        "id": "mxB6Jlk-8Zt6"
      },
      "source": [
        "It's quite easy! We simply indicate where we want the information from and the we store that information in some variables so we can process it inside our program.\n",
        "\n",
        "This works on the local machine, but might not work on colab."
      ]
    },
    {
      "cell_type": "markdown",
      "metadata": {
        "id": "6LtEmFlH8Zt7"
      },
      "source": [
        "### Writing to a file\n",
        "\n",
        "```\n",
        "file = open(\"myfile.txt\",\"w\")\n",
        "file.write(\"one line of text\")\n",
        "file.write(\"another line of text\")\n",
        "file.close()\n",
        "```\n",
        "\n",
        "### Reading from a file\n",
        "```\n",
        "file = open(\"myfile.txt\",\"r\")\n",
        "lines = file.readlines()\n",
        "```\n",
        "and now in lines we have a list of all the lines in the file and we can iterate through lists:\n",
        "\n",
        "```\n",
        "for line in lines:\n",
        "    print(line)\n",
        " ```"
      ]
    },
    {
      "cell_type": "markdown",
      "metadata": {
        "id": "X6O3nnWA8Zt7"
      },
      "source": [
        "As we are in the cloud with colab, let's read from a website that is online. For this we need the address, URL of the page, and we can use a library called BeuatifulSoup to read HTML (most online pages are.. HTML)"
      ]
    },
    {
      "cell_type": "code",
      "execution_count": null,
      "metadata": {
        "id": "MdUpEXoK8Zt7"
      },
      "outputs": [],
      "source": [
        "from bs4 import BeautifulSoup\n",
        "import requests\n",
        "URL = \"https://www.cs.cmu.edu/~rgs/alice-I.html\"\n",
        "html = requests.get(URL, {}).text"
      ]
    },
    {
      "cell_type": "code",
      "execution_count": null,
      "metadata": {
        "id": "LUoRg4LQ8Zt8"
      },
      "outputs": [],
      "source": [
        "#getting the text from html\n",
        "soup = BeautifulSoup(html)"
      ]
    },
    {
      "cell_type": "code",
      "execution_count": null,
      "metadata": {
        "id": "biVaFblV8Zt9"
      },
      "outputs": [],
      "source": [
        "alice_book = soup.text"
      ]
    },
    {
      "cell_type": "code",
      "execution_count": null,
      "metadata": {
        "colab": {
          "base_uri": "https://localhost:8080/"
        },
        "id": "aoJYGR2d8Zt9",
        "outputId": "bbe2c70e-96e3-440f-e753-0c34f119e7f3"
      },
      "outputs": [
        {
          "output_type": "stream",
          "name": "stdout",
          "text": [
            "2357\n"
          ]
        }
      ],
      "source": [
        "#you can see how many words are in the chapter I\n",
        "words = alice_book.split(\" \")\n",
        "print(len(words))"
      ]
    },
    {
      "cell_type": "code",
      "execution_count": null,
      "metadata": {
        "colab": {
          "base_uri": "https://localhost:8080/"
        },
        "id": "36HLibHs8Zt9",
        "outputId": "d1fb1c4f-ac32-4773-a584-6176415c0724"
      },
      "outputs": [
        {
          "output_type": "stream",
          "name": "stdout",
          "text": [
            "31\n"
          ]
        }
      ],
      "source": [
        "# We can count how many times the word \"Alice\" appears\n",
        "\n",
        "alice_count = sum(word.count('Alice') for word in words)\n",
        "print(alice_count)"
      ]
    },
    {
      "cell_type": "markdown",
      "metadata": {
        "id": "whdaRz6b8Zt-"
      },
      "source": [
        "## Checking your understanding\n",
        "\n",
        "By now you should have gone through arrays, for loops and other concepts, if you get stuck revist those notebooks.\n",
        "Write a new file where you only write the lines in the book containing the word *\"Alice\"*. The file should have only 31 lines."
      ]
    },
    {
      "cell_type": "code",
      "source": [
        "# code here\n",
        "##print(alice_book)\n",
        "\n",
        "fileAIW = open(\"aliceinwonderland.txt\",\"w\")\n",
        "\n",
        "fileAIW.write(alice_book)\n",
        "fileAIW.close()\n",
        "\n",
        "\n",
        "fileAIW = open(\"aliceinwonderland.txt\", \"r\")\n",
        "fileAIWL = open(\"aiwl.txt\", \"w\")\n",
        "\n",
        "lines = fileAIW.readlines()\n",
        "##n = 0\n",
        "for line in lines:\n",
        "\n",
        "  found = line.find(\"Alice\")\n",
        "  if found != -1:\n",
        "##    print(line)\n",
        "    fileAIWL.write(line)\n",
        "##    n=n+1\n",
        "##print(n)\n",
        "fileAIWL.close()\n",
        "\n",
        "print(\"-----------------------------------------------------------------------------\")\n",
        "\n",
        "\n",
        "fileAIWL_sum = open(\"aiwl.txt\", \"r\")\n",
        "\n",
        "sum_lines = fileAIWL_sum.readlines()\n",
        "for sline in sum_lines:\n",
        "  print(sline)\n",
        "\n",
        "sum = (len(sum_lines))\n",
        "print(sum)\n",
        "\n"
      ],
      "metadata": {
        "colab": {
          "base_uri": "https://localhost:8080/"
        },
        "id": "Pua5kNfliaLB",
        "outputId": "28fa0482-5140-4442-d68a-5aca5cf2e226"
      },
      "execution_count": null,
      "outputs": [
        {
          "output_type": "stream",
          "name": "stdout",
          "text": [
            "-----------------------------------------------------------------------------\n",
            "Alice's Adventures in Wonderland -- Chapter I\n",
            "\n",
            "  Alice was beginning to get very tired of sitting by her sister\n",
            "\n",
            "thought Alice `without pictures or conversation?'\n",
            "\n",
            "  There was nothing so very remarkable in that; nor did Alice\n",
            "\n",
            "but when the Rabbit actually took a watch out of its waistcoat-pocket, and looked at it, and then hurried on, Alice started to\n",
            "\n",
            "  In another moment down went Alice after it, never once\n",
            "\n",
            "and then dipped suddenly down, so suddenly that Alice had not a\n",
            "\n",
            "  `Well!' thought Alice to herself, `after such a fall as this, I\n",
            "\n",
            "you see, Alice had learnt several things of this sort in her\n",
            "\n",
            "or Longitude I've got to?'  (Alice had no idea what Latitude was,\n",
            "\n",
            "  Down, down, down.  There was nothing else to do, so Alice soon\n",
            "\n",
            "But do cats eat bats, I wonder?'  And here Alice began to get\n",
            "\n",
            "  Alice was not a bit hurt, and she jumped up on to her feet in a\n",
            "\n",
            "away went Alice like the wind, and was just in time to hear it\n",
            "\n",
            "and when Alice had been all the way down one side and up the\n",
            "\n",
            "and Alice's first thought was that it might belong to one of the\n",
            "\n",
            "Alice finding tiny door behind curtain\n",
            "\n",
            "  Alice opened the door and found that it led into a small\n",
            "\n",
            "my head would go through,' thought poor Alice, `it would be of\n",
            "\n",
            "had happened lately, that Alice had begun to think that very few\n",
            "\n",
            "certainly was not here before,' said Alice,) and round the neck\n",
            "\n",
            "Alice taking \"Drink Me\" bottle\n",
            "\n",
            "Alice was not going to do that in a hurry.  `No, I'll look\n",
            "\n",
            "  However, this bottle was not marked `poison,' so Alice ventured\n",
            "\n",
            "  `What a curious feeling!' said Alice; `I must be shutting up\n",
            "\n",
            "this; `for it might end, you know,' said Alice to herself, `in my\n",
            "\n",
            "on going into the garden at once; but, alas for poor Alice!\n",
            "\n",
            "  `Come, there's no use in crying like that!' said Alice to\n",
            "\n",
            "use now,' thought poor Alice, `to pretend to be two people!  Why,\n",
            "\n",
            "`Well, I'll eat it,' said Alice, `and if it makes me grow larger,\n",
            "\n",
            "happens when one eats cake, but Alice had got so much into the\n",
            "\n",
            "31\n"
          ]
        }
      ]
    },
    {
      "cell_type": "code",
      "source": [],
      "metadata": {
        "id": "znSedygTiPYD"
      },
      "execution_count": null,
      "outputs": []
    },
    {
      "cell_type": "code",
      "source": [
        "print(alice_book)"
      ],
      "metadata": {
        "colab": {
          "base_uri": "https://localhost:8080/"
        },
        "id": "ELRYsOx6SHJF",
        "outputId": "85ab1dff-36e0-43fb-b452-ff0645e0c718"
      },
      "execution_count": null,
      "outputs": [
        {
          "output_type": "stream",
          "name": "stdout",
          "text": [
            "\n",
            "\n",
            "Alice's Adventures in Wonderland -- Chapter I\n",
            "\n",
            "\n",
            "CHAPTER I\n",
            "Down the Rabbit-Hole\n",
            "\n",
            "  Alice was beginning to get very tired of sitting by her sister\n",
            "on the bank, and of having nothing to do:  once or twice she had\n",
            "peeped into the book her sister was reading, but it had no\n",
            "pictures or conversations in it, `and what is the use of a book,'\n",
            "thought Alice `without pictures or conversation?'\n",
            "\n",
            "  So she was considering in her own mind (as well as she could,\n",
            "for the hot day made her feel very sleepy and stupid), whether\n",
            "the pleasure of making a daisy-chain would be worth the trouble\n",
            "of getting up and picking the daisies, when suddenly a White\n",
            "Rabbit with pink eyes ran close by her.\n",
            "\n",
            "  There was nothing so very remarkable in that; nor did Alice\n",
            "think it so very much out of the way to hear the Rabbit say to\n",
            "itself, `Oh dear!  Oh dear!  I shall be late!'  (when she thought\n",
            "it over afterwards, it occurred to her that she ought to have\n",
            "wondered at this, but at the time it all seemed quite natural);\n",
            "but when the Rabbit actually took a watch out of its waistcoat-pocket, and looked at it, and then hurried on, Alice started to\n",
            "her feet, for it flashed across her mind that she had never\n",
            "before seen a rabbit with either a waistcoat-pocket, or a watch to\n",
            "take out of it, and burning with curiosity, she ran across the\n",
            "field after it, and fortunately was just in time to see it pop\n",
            "down a large rabbit-hole under the hedge.\n",
            "\n",
            "\n",
            "White Rabbit checking watch\n",
            "\n",
            "  In another moment down went Alice after it, never once\n",
            "considering how in the world she was to get out again.\n",
            "\n",
            "  The rabbit-hole went straight on like a tunnel for some way,\n",
            "and then dipped suddenly down, so suddenly that Alice had not a\n",
            "moment to think about stopping herself before she found herself\n",
            "falling down a very deep well.\n",
            "\n",
            "  Either the well was very deep, or she fell very slowly, for she\n",
            "had plenty of time as she went down to look about her and to\n",
            "wonder what was going to happen next.  First, she tried to look\n",
            "down and make out what she was coming to, but it was too dark to\n",
            "see anything; then she looked at the sides of the well, and\n",
            "noticed that they were filled with cupboards and book-shelves;\n",
            "here and there she saw maps and pictures hung upon pegs.  She\n",
            "took down a jar from one of the shelves as she passed; it was\n",
            "labelled `ORANGE MARMALADE', but to her great disappointment it\n",
            "was empty:  she did not like to drop the jar for fear of killing\n",
            "somebody, so managed to put it into one of the cupboards as she\n",
            "fell past it.\n",
            "\n",
            "  `Well!' thought Alice to herself, `after such a fall as this, I\n",
            "shall think nothing of tumbling down stairs!  How brave they'll\n",
            "all think me at home!  Why, I wouldn't say anything about it,\n",
            "even if I fell off the top of the house!' (Which was very likely\n",
            "true.)\n",
            "\n",
            "  Down, down, down.  Would the fall never come to an end!  `I\n",
            "wonder how many miles I've fallen by this time?' she said aloud.\n",
            "`I must be getting somewhere near the centre of the earth.  Let\n",
            "me see:  that would be four thousand miles down, I think--' (for,\n",
            "you see, Alice had learnt several things of this sort in her\n",
            "lessons in the schoolroom, and though this was not a very good\n",
            "opportunity for showing off her knowledge, as there was no one to\n",
            "listen to her, still it was good practice to say it over) `--yes,\n",
            "that's about the right distance--but then I wonder what Latitude\n",
            "or Longitude I've got to?'  (Alice had no idea what Latitude was,\n",
            "or Longitude either, but thought they were nice grand words to\n",
            "say.)\n",
            "\n",
            "  Presently she began again.  `I wonder if I shall fall right\n",
            "through the earth!  How funny it'll seem to come out among the\n",
            "people that walk with their heads downward!  The Antipathies, I\n",
            "think--' (she was rather glad there was no one listening, this\n",
            "time, as it didn't sound at all the right word) `--but I shall\n",
            "have to ask them what the name of the country is, you know.\n",
            "Please, Ma'am, is this New Zealand or Australia?' (and she tried\n",
            "to curtsey as she spoke--fancy curtseying as you're falling\n",
            "through the air!  Do you think you could manage it?)  `And what\n",
            "an ignorant little girl she'll think me for asking!  No, it'll\n",
            "never do to ask:  perhaps I shall see it written up somewhere.'\n",
            "\n",
            "  Down, down, down.  There was nothing else to do, so Alice soon\n",
            "began talking again.  `Dinah'll miss me very much to-night, I\n",
            "should think!'  (Dinah was the cat.)  `I hope they'll remember\n",
            "her saucer of milk at tea-time.  Dinah my dear!  I wish you were\n",
            "down here with me!  There are no mice in the air, I'm afraid, but\n",
            "you might catch a bat, and that's very like a mouse, you know.\n",
            "But do cats eat bats, I wonder?'  And here Alice began to get\n",
            "rather sleepy, and went on saying to herself, in a dreamy sort of\n",
            "way, `Do cats eat bats?  Do cats eat bats?' and sometimes, `Do\n",
            "bats eat cats?' for, you see, as she couldn't answer either\n",
            "question, it didn't much matter which way she put it.  She felt\n",
            "that she was dozing off, and had just begun to dream that she\n",
            "was walking hand in hand with Dinah, and saying to her very\n",
            "earnestly, `Now, Dinah, tell me the truth:  did you ever eat a\n",
            "bat?' when suddenly, thump! thump! down she came upon a heap of\n",
            "sticks and dry leaves, and the fall was over.\n",
            "\n",
            "  Alice was not a bit hurt, and she jumped up on to her feet in a\n",
            "moment:  she looked up, but it was all dark overhead; before her\n",
            "was another long passage, and the White Rabbit was still in\n",
            "sight, hurrying down it.  There was not a moment to be lost:\n",
            "away went Alice like the wind, and was just in time to hear it\n",
            "say, as it turned a corner, `Oh my ears and whiskers, how late\n",
            "it's getting!'  She was close behind it when she turned the\n",
            "corner, but the Rabbit was no longer to be seen:  she found\n",
            "herself in a long, low hall, which was lit up by a row of lamps\n",
            "hanging from the roof.\n",
            "\n",
            "  There were doors all round the hall, but they were all locked;\n",
            "and when Alice had been all the way down one side and up the\n",
            "other, trying every door, she walked sadly down the middle,\n",
            "wondering how she was ever to get out again.\n",
            "\n",
            "  Suddenly she came upon a little three-legged table, all made of\n",
            "solid glass; there was nothing on it except a tiny golden key,\n",
            "and Alice's first thought was that it might belong to one of the\n",
            "doors of the hall; but, alas! either the locks were too large, or\n",
            "the key was too small, but at any rate it would not open any of\n",
            "them.  However, on the second time round, she came upon a low\n",
            "curtain she had not noticed before, and behind it was a little\n",
            "door about fifteen inches high:  she tried the little golden key\n",
            "in the lock, and to her great delight it fitted!\n",
            "\n",
            "\n",
            "Alice finding tiny door behind curtain\n",
            "\n",
            "  Alice opened the door and found that it led into a small\n",
            "passage, not much larger than a rat-hole:  she knelt down and\n",
            "looked along the passage into the loveliest garden you ever saw.\n",
            "How she longed to get out of that dark hall, and wander about\n",
            "among those beds of bright flowers and those cool fountains, but\n",
            "she could not even get her head though the doorway; `and even if\n",
            "my head would go through,' thought poor Alice, `it would be of\n",
            "very little use without my shoulders.  Oh, how I wish\n",
            "I could shut up like a telescope!  I think I could, if I only\n",
            "know how to begin.'  For, you see, so many out-of-the-way things\n",
            "had happened lately, that Alice had begun to think that very few\n",
            "things indeed were really impossible.\n",
            "\n",
            "  There seemed to be no use in waiting by the little door, so she\n",
            "went back to the table, half hoping she might find another key on\n",
            "it, or at any rate a book of rules for shutting people up like\n",
            "telescopes:  this time she found a little bottle on it, (`which\n",
            "certainly was not here before,' said Alice,) and round the neck\n",
            "of the bottle was a paper label, with the words `DRINK ME'\n",
            "beautifully printed on it in large letters.\n",
            "\n",
            "\n",
            "Alice taking \"Drink Me\" bottle\n",
            "\n",
            "  It was all very well to say `Drink me,' but the wise little\n",
            "Alice was not going to do that in a hurry.  `No, I'll look\n",
            "first,' she said, `and see whether it's marked \"poison\" or not';\n",
            "for she had read several nice little histories about children who\n",
            "had got burnt, and eaten up by wild beasts and other unpleasant\n",
            "things, all because they would not remember the simple rules\n",
            "their friends had taught them:  such as, that a red-hot poker\n",
            "will burn you if you hold it too long; and that if you cut your\n",
            "finger very deeply with a knife, it usually bleeds; and she had\n",
            "never forgotten that, if you drink much from a bottle marked\n",
            "`poison,' it is almost certain to disagree with you, sooner or\n",
            "later.\n",
            "\n",
            "  However, this bottle was not marked `poison,' so Alice ventured\n",
            "to taste it, and finding it very nice, (it had, in fact, a sort\n",
            "of mixed flavour of cherry-tart, custard, pine-apple, roast\n",
            "turkey, toffee, and hot buttered toast,) she very soon finished\n",
            "it off.\n",
            "\n",
            "     *       *       *       *       *       *       *\n",
            "\n",
            "         *       *       *       *       *       *\n",
            "\n",
            "     *       *       *       *       *       *       *\n",
            "\n",
            "  `What a curious feeling!' said Alice; `I must be shutting up\n",
            "like a telescope.'\n",
            "\n",
            "  And so it was indeed:  she was now only ten inches high, and\n",
            "her face brightened up at the thought that she was now the right\n",
            "size for going through the little door into that lovely garden.\n",
            "First, however, she waited for a few minutes to see if she was\n",
            "going to shrink any further:  she felt a little nervous about\n",
            "this; `for it might end, you know,' said Alice to herself, `in my\n",
            "going out altogether, like a candle.  I wonder what I should be\n",
            "like then?'  And she tried to fancy what the flame of a candle is\n",
            "like after the candle is blown out, for she could not remember\n",
            "ever having seen such a thing.\n",
            "\n",
            "  After a while, finding that nothing more happened, she decided\n",
            "on going into the garden at once; but, alas for poor Alice!\n",
            "when she got to the door, she found she had forgotten the\n",
            "little golden key, and when she went back to the table for it,\n",
            "she found she could not possibly reach it:  she could see it\n",
            "quite plainly through the glass, and she tried her best to climb\n",
            "up one of the legs of the table, but it was too slippery;\n",
            "and when she had tired herself out with trying,\n",
            "the poor little thing sat down and cried.\n",
            "\n",
            "  `Come, there's no use in crying like that!' said Alice to\n",
            "herself, rather sharply; `I advise you to leave off this minute!'\n",
            "She generally gave herself very good advice, (though she very\n",
            "seldom followed it), and sometimes she scolded herself so\n",
            "severely as to bring tears into her eyes; and once she remembered\n",
            "trying to box her own ears for having cheated herself in a game\n",
            "of croquet she was playing against herself, for this curious\n",
            "child was very fond of pretending to be two people.  `But it's no\n",
            "use now,' thought poor Alice, `to pretend to be two people!  Why,\n",
            "there's hardly enough of me left to make one respectable\n",
            "person!'\n",
            "\n",
            "  Soon her eye fell on a little glass box that was lying under\n",
            "the table:  she opened it, and found in it a very small cake, on\n",
            "which the words `EAT ME' were beautifully marked in currants.\n",
            "`Well, I'll eat it,' said Alice, `and if it makes me grow larger,\n",
            "I can reach the key; and if it makes me grow smaller, I can creep\n",
            "under the door; so either way I'll get into the garden, and I\n",
            "don't care which happens!'\n",
            "\n",
            "  She ate a little bit, and said anxiously to herself, `Which\n",
            "way?  Which way?', holding her hand on the top of her head to\n",
            "feel which way it was growing, and she was quite surprised to\n",
            "find that she remained the same size:  to be sure, this generally\n",
            "happens when one eats cake, but Alice had got so much into the\n",
            "way of expecting nothing but out-of-the-way things to happen,\n",
            "that it seemed quite dull and stupid for life to go on in the\n",
            "common way.\n",
            "\n",
            "  So she set to work, and very soon finished off the cake.\n",
            "\n",
            "     *       *       *       *       *       *       *\n",
            "\n",
            "         *       *       *       *       *       *\n",
            "\n",
            "     *       *       *       *       *       *       *\n",
            "\n",
            "Next chapter:  The Pool of Tears\n",
            "\n",
            "\n",
            "\n"
          ]
        }
      ]
    },
    {
      "cell_type": "markdown",
      "metadata": {
        "id": "h_jSISm28Zt-"
      },
      "source": [
        "# Summary\n",
        "\n",
        "Congratulations! You should now have a basic understanding of reading and writing from files and working with the data your read."
      ]
    }
  ],
  "metadata": {
    "kernelspec": {
      "display_name": "Python 3",
      "language": "python",
      "name": "python3"
    },
    "language_info": {
      "codemirror_mode": {
        "name": "ipython",
        "version": 3
      },
      "file_extension": ".py",
      "mimetype": "text/x-python",
      "name": "python",
      "nbconvert_exporter": "python",
      "pygments_lexer": "ipython3",
      "version": "3.11.3"
    },
    "colab": {
      "provenance": [],
      "include_colab_link": true
    }
  },
  "nbformat": 4,
  "nbformat_minor": 0
}